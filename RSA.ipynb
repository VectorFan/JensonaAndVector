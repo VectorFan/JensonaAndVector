{
 "cells": [
  {
   "cell_type": "code",
   "execution_count": 14,
   "id": "7fed98d7-fd89-410a-bb14-df0f25f156e5",
   "metadata": {},
   "outputs": [],
   "source": [
    "# PRIME GENERATOR\n",
    "\n",
    "from random import randrange, getrandbits\n",
    "def is_prime(n, k = 64):\n",
    "    if n == 2:\n",
    "        return True\n",
    "    elif n == 1:\n",
    "        return False\n",
    "    elif n % 2==0 and n != 2:\n",
    "        return False\n",
    "    \n",
    "    #n - 1 = r*2^s find r and s\n",
    "    r = n - 1\n",
    "    s = 0\n",
    "    while r % 2 == 0:\n",
    "        r //= 2\n",
    "        s+= 1\n",
    "\n",
    "    for i in range(k):\n",
    "        if miller_rabin(r, n, s) == False:\n",
    "            return False\n",
    "    else:\n",
    "        return True\n",
    "    \n",
    "\n",
    "def miller_rabin(r, n, s):\n",
    "     #find r, s (n-1) = r*2^s\n",
    "\n",
    "    j = 2\n",
    "    a = randrange(1, n-1)\n",
    "    fermat_test =  pow(a, r, n)\n",
    "    if fermat_test == 1 or fermat_test == n - 1:\n",
    "        return True\n",
    "    while j < s:\n",
    "\n",
    "        x = pow(a, r*pow(2, j), n)\n",
    "        if x == (1%n):\n",
    "            return True\n",
    "        elif x== -1:\n",
    "            return False\n",
    "        j += 1\n",
    "    else:\n",
    "        x = pow(a, r*pow(2, s-1), n)\n",
    "        \n",
    "        euler_test = pow(a, int((n-1)/2), n)\n",
    "       \n",
    "        if x == euler_test and abs(x) == 1:\n",
    "            return True\n",
    "        else:\n",
    "            return False\n",
    "        \n",
    "        \n",
    "        \n",
    "def generate_candidate(length = 32):\n",
    "    p = getrandbits(length)\n",
    "    p = p | (1 << length - 1) | 1\n",
    "    return p\n",
    "\n",
    "\n",
    "def generate_prime(length = 32):\n",
    "    result = False\n",
    "    while result == False:\n",
    "        candidate = generate_candidate(length)\n",
    "        result = is_prime(candidate)\n",
    "    return candidate "
   ]
  },
  {
   "cell_type": "code",
   "execution_count": 20,
   "id": "0f9f360e-290c-4ba4-931b-450608a9daaf",
   "metadata": {},
   "outputs": [],
   "source": [
    "# DEFs\n",
    "\n",
    "import random as rd\n",
    "\n",
    "def extended_gcd(a, b):\n",
    "    '''Extended Euclidean Algorithm to find gcd and coefficients'''\n",
    "    if b == 0:\n",
    "        return a, 1, 0\n",
    "\n",
    "    gcd, x1, y1 = extended_gcd(b, a % b)\n",
    "    x = y1\n",
    "    y = x1 - (a // b) * y1\n",
    "    return gcd, x, y\n",
    "\n",
    "def gcd(p, q):\n",
    "    '''returns the greatest common factor of two numbers'''\n",
    "    return extended_gcd(p,q)[0]\n",
    "\n",
    "def phi_gen(p, q):\n",
    "    '''returns the totient of two PRIME numbers'''\n",
    "    return (p - 1) * (q - 1)\n",
    "\n",
    "def n_gen(p, q):\n",
    "    '''returns n'''\n",
    "    return p * q\n",
    "\n",
    "def e_gen(p, q):\n",
    "    '''returns e'''\n",
    "    tot = phi_gen(p, q)\n",
    "    for e in range(17, tot):\n",
    "        if gcd(e, tot) == 1:\n",
    "            break\n",
    "    return e\n",
    "\n",
    "def d_gen(p, q):\n",
    "    '''returns d'''\n",
    "    gcd, x, _ = extended_gcd(e_gen(p, q), phi_gen(p, q))\n",
    "    return x % phi_gen(p, q)\n",
    "\n",
    "def key_gen():\n",
    "    p, q = generate_prime(1024), generate_prime(1024) # the parentheses can be left blank, but have 512 will make the prime much larger\n",
    "    n = n_gen(p, q)\n",
    "    e = e_gen(p, q)\n",
    "    d = d_gen(p, q)\n",
    "    phi = phi_gen(p, q)\n",
    "    return (n, e, d)\n",
    "\n",
    "\n",
    "def convert(string):\n",
    "    \"\"\"string --> zero-padded ASCII (as a str. as an int would cause issue: it will kill the trailing zeros)\"\"\"\n",
    "    code = ''\n",
    "    for char in string:\n",
    "        code += f\"{ord(char):03}\"  # force 3 digits per char\n",
    "    return code\n",
    "\n",
    "def convert_back(decrypted_code_str):\n",
    "    \"\"\"zero-padded ASCII string --> original string\"\"\"\n",
    "    message = \"\"\n",
    "    # Read in chunks of 3\n",
    "    for i in range(0, len(decrypted_code_str), 3):\n",
    "        message += chr(int(decrypted_code_str[i:i+3]))\n",
    "    return message\n",
    "\n",
    "def encryption(message, n, e):\n",
    "    '''C = m^e mod n'''\n",
    "    \"\"\"Return (ciphertext, length_of_ascii_str).\"\"\"\n",
    "    code_str = convert(message)          \n",
    "    m_len = len(code_str) # measure how many digits in total\n",
    "    m_int = int(code_str) # convert to int for RSA (will result in loss of trailing zero)\n",
    "    c = pow(m_int, e, n)  # encrypt\n",
    "    return c, m_len\n",
    "\n",
    "\n",
    "def decryption(cipher_pair, n, d):\n",
    "    \"\"\"Given (ciphertext, length), return the original message string.\"\"\"\n",
    "    c, m_len = cipher_pair\n",
    "    decrypted_int = pow(c, d, n)  # standard RSA decryption\n",
    "    decrypted_str = str(decrypted_int).rjust(m_len, '0') # rjust put the right amount of trailing zeros so that the str reaches an desired length (m_len)\n",
    "    return convert_back(decrypted_str)"
   ]
  },
  {
   "cell_type": "code",
   "execution_count": 22,
   "id": "d085ea2c-d20a-4ada-b87e-60f4fa3922ac",
   "metadata": {},
   "outputs": [
    {
     "name": "stdout",
     "output_type": "stream",
     "text": [
      "Public Key: (n, e) (23056235814536983572965195495200210211247183571757472039868723634192761256517774287961785737973733429885640339130246268450034644258438795728841338363402718787882084497854650442026652447217467319646857167473581888178440868882356750618018595231901049484381823572358726865596222244625618128957441684016103770192396024131410163121117495731019318772306322953690577058407382516406991331784039217070733451951239350429153515009419999393804452602132749715896091569501218683733592930490313741430502701140239342358321299641529399087420936585072698951734762418292915563135699738025426812240568200630240191337712737640468017278273, 17)\n",
      "Private Key: (n, d) (23056235814536983572965195495200210211247183571757472039868723634192761256517774287961785737973733429885640339130246268450034644258438795728841338363402718787882084497854650442026652447217467319646857167473581888178440868882356750618018595231901049484381823572358726865596222244625618128957441684016103770192396024131410163121117495731019318772306322953690577058407382516406991331784039217070733451951239350429153515009419999393804452602132749715896091569501218683733592930490313741430502701140239342358321299641529399087420936585072698951734762418292915563135699738025426812240568200630240191337712737640468017278273, 9493744158926993235926845203905968910513546176606017898769474437608784046801436471513676480342125529952910727877160228185308382929945386476581727561401119500892623028528385476128621595913074778678117657195004306897005063657441014960360598036665138022980750882735946356421973865434078053100123046359572140667331896795137672644861798147542226011644115859898295527579701057000821243225154601464927646645263988845617091584663720650115718112122835279819135840708237953759631201683369757225724696002916915735686513037741823671010022423459982975948020987978801653906882612929553230519119288815787071250144689013484511896573)\n"
     ]
    }
   ],
   "source": [
    "# GEN KEY\n",
    "\n",
    "n, e, d = key_gen()\n",
    "print(\"Public Key: (n, e)\", (n, e))\n",
    "print(\"Private Key: (n, d)\", (n, d))"
   ]
  },
  {
   "cell_type": "code",
   "execution_count": 24,
   "id": "d6cfd650-889e-4199-ab96-8e8bdda08c6d",
   "metadata": {},
   "outputs": [
    {
     "name": "stdin",
     "output_type": "stream",
     "text": [
      "Enter the message to encrypt:  Jenson is the smartest person in the whole world!!!\n"
     ]
    },
    {
     "name": "stdout",
     "output_type": "stream",
     "text": [
      "ASCII (trailing zero if needed): 074101110115111110032105115032116104101032115109097114116101115116032112101114115111110032105110032116104101032119104111108101032119111114108100033033033\n",
      "Encrypted Message: (1518425859873543273677134176840569468894051192191730272637914809642658814917241517685212761300443276269630012679651694585411654912185858474624992230964008224199577617234458672361142777839531985553027751380864216407512545702854580965205527895806654700531166835643992509497330380539326984664260577198081017780905793724418131297796771139383757046393305118291524887439509239793635876351236321183930797845250224114743352270667587236100280931243766935500743166252943969982951220318356234675974465809150997039325942218628665247414023443099312260869019456762608104979980136877718354211403843462989527599148386613930608388846, 153)\n"
     ]
    }
   ],
   "source": [
    "# SENDER\n",
    "\n",
    "# this cell represents the sender,who only \"knows\" n and e, doesn't know the private key d\n",
    "\n",
    "message = input(\"Enter the message to encrypt: \")\n",
    "\n",
    "\n",
    "ascii_rep = convert(message)  \n",
    "ciphertext = encryption(message, n, e)  \n",
    "\n",
    "print(\"ASCII (trailing zero if needed):\", ascii_rep)\n",
    "print(\"Encrypted Message:\", ciphertext)\n",
    "\n",
    "# why ciphertext is a tuple?? the second number in the tuple represents the message length. we need to know the message length in order to figure out if there's a trailing zero in the beginning of the ASCII string. "
   ]
  },
  {
   "cell_type": "code",
   "execution_count": 26,
   "id": "f8d09873-81ec-45ed-9f68-b70b62408be6",
   "metadata": {},
   "outputs": [
    {
     "name": "stdin",
     "output_type": "stream",
     "text": [
      "Enter the encrypted message to decrypt:  (1518425859873543273677134176840569468894051192191730272637914809642658814917241517685212761300443276269630012679651694585411654912185858474624992230964008224199577617234458672361142777839531985553027751380864216407512545702854580965205527895806654700531166835643992509497330380539326984664260577198081017780905793724418131297796771139383757046393305118291524887439509239793635876351236321183930797845250224114743352270667587236100280931243766935500743166252943969982951220318356234675974465809150997039325942218628665247414023443099312260869019456762608104979980136877718354211403843462989527599148386613930608388846, 153)\n"
     ]
    },
    {
     "name": "stdout",
     "output_type": "stream",
     "text": [
      "Decrypted Message: Jenson is the smartest person in the whole world!!!\n"
     ]
    }
   ],
   "source": [
    "# RECEIVER\n",
    "# this cell represents the receiver, who \"knows\" the private key d.\n",
    "\n",
    "import ast\n",
    "\n",
    "ciphertext_str = input(\"Enter the encrypted message to decrypt: \")\n",
    "\n",
    "ciphertext_tuple = ast.literal_eval(ciphertext_str)  # parses string into an actual tuple\n",
    "decrypted_message = decryption(ciphertext_tuple, n, d)\n",
    "print(\"Decrypted Message:\", decrypted_message)"
   ]
  },
  {
   "cell_type": "code",
   "execution_count": null,
   "id": "05530c63-2af1-441c-831a-9af710b2fd1d",
   "metadata": {},
   "outputs": [],
   "source": []
  }
 ],
 "metadata": {
  "kernelspec": {
   "display_name": "Python 3 (ipykernel)",
   "language": "python",
   "name": "python3"
  },
  "language_info": {
   "codemirror_mode": {
    "name": "ipython",
    "version": 3
   },
   "file_extension": ".py",
   "mimetype": "text/x-python",
   "name": "python",
   "nbconvert_exporter": "python",
   "pygments_lexer": "ipython3",
   "version": "3.12.7"
  }
 },
 "nbformat": 4,
 "nbformat_minor": 5
}
